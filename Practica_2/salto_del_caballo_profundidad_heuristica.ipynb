{
 "cells": [
  {
   "cell_type": "code",
   "execution_count": 16,
   "metadata": {},
   "outputs": [],
   "source": [
    "import numpy\n",
    "import random\n",
    "import time"
   ]
  },
  {
   "cell_type": "markdown",
   "metadata": {},
   "source": [
    "# Definicion de funciones"
   ]
  },
  {
   "cell_type": "code",
   "execution_count": 17,
   "metadata": {},
   "outputs": [],
   "source": [
    "# busqueda de la posicion del caballo mediante el número en el que se encuetra y el tablero\n",
    "def get_coord(number, matrix):\n",
    "    for i in range(len(matrix)):\n",
    "        for j in range(len(matrix[i])):\n",
    "            if matrix[i][j] == number:\n",
    "                return i, j\n",
    "\n",
    "# funcion que devuelve si se puede o no mover el caballo a la posición deseada\n",
    "def get_move(val_pos, n, chessboard):\n",
    "    if (val_pos[0] >= 0) and (val_pos[0] < n) and (val_pos[1] >= 0) and (val_pos[1] < n) and (chessboard[val_pos[0], val_pos[1]] == 0):\n",
    "        return True # Se devuelve True si el movimiento se encuentra dentro del tablero y no se encuentra ocupado\n",
    "    return False\n",
    "\n",
    "# funcion que devuelve el numero de movimientos posibles para el caballo\n",
    "def get_moves_number(val_pos, n, chessboard):\n",
    "    moves = 0\n",
    "    if get_move((val_pos[0] + 2, val_pos[1] + 1), n, chessboard):\n",
    "        moves += 1\n",
    "    if get_move((val_pos[0] + 2, val_pos[1] - 1), n, chessboard):\n",
    "        moves += 1\n",
    "    if get_move((val_pos[0] - 2, val_pos[1] + 1), n, chessboard):\n",
    "        moves += 1\n",
    "    if get_move((val_pos[0] - 2, val_pos[1] - 1), n, chessboard):\n",
    "        moves += 1\n",
    "    if get_move((val_pos[0] + 1, val_pos[1] + 2), n, chessboard):\n",
    "        moves += 1\n",
    "    if get_move((val_pos[0] + 1, val_pos[1] - 2), n, chessboard):\n",
    "        moves += 1\n",
    "    if get_move((val_pos[0] - 1, val_pos[1] + 2), n, chessboard):\n",
    "        moves += 1\n",
    "    if get_move((val_pos[0] - 1, val_pos[1] - 2), n, chessboard):\n",
    "        moves += 1\n",
    "    return moves\n",
    "\n",
    "#funcion para ordenar los movimientos de menor a mayor\n",
    "def bubble_sort(lista):\n",
    "    for i in range(len(lista)-1,0,-1):\n",
    "        for j in range(i):\n",
    "            if lista[j][0]>lista[j+1][0]:\n",
    "                aux=lista[j]\n",
    "                lista[j]=lista[j+1]\n",
    "                lista[j+1]=aux\n",
    "    return lista\n"
   ]
  },
  {
   "cell_type": "code",
   "execution_count": 18,
   "metadata": {},
   "outputs": [],
   "source": [
    "# funcion recursiva para la busqueda de la solucion\n",
    "def knights_tour(posicion,n,move_number,chessboard):\n",
    "    # generamos una copia de la variable global por cada llamada recursiva\n",
    "    global movements_order\n",
    "    movements_order = []\n",
    "    # si el numero de movimientos es igual al numero de casillas del tablero, se ha llegado al final\n",
    "    if move_number>n*n:\n",
    "        #adjuntamos la solucion al array de movimientos\n",
    "        different_solutions.append(chessboard.copy())\n",
    "        print(f\"\\rnumero de soluciones encontradas = {len(different_solutions)}\", end=\"\")\n",
    "        # descomentar esto si queremos mas de una solucion\n",
    "        # x,y = get_coord(move_number-1, chessboard)\n",
    "        # chessboard[x,y] = 0\n",
    "        return True\n",
    "    # obtenemos el numero de hijos que tendran los diferentes nodos\n",
    "    for i in movements:\n",
    "        x,y = get_coord(move_number-1, chessboard)\n",
    "        posicion=(x+i[0],y+i[1])\n",
    "        if get_move(posicion,n,chessboard):\n",
    "            num_valores_aux=get_moves_number(posicion,n,chessboard)\n",
    "            movements_order.append((num_valores_aux,posicion))\n",
    "\n",
    "    # ordenamos los movimientos de menor a mayor segun el numero de hijos\n",
    "    movements_order= bubble_sort(movements_order)\n",
    "    # recorremos los movimientos de menor a mayor\n",
    "    for i in movements_order:\n",
    "        #actualizamos el tablero\n",
    "        chessboard[i[1][0],i[1][1]] = move_number\n",
    "        # llamamos recursivamente a la funcion con la posicion actualizada\n",
    "        x=knights_tour(i[1],n,move_number+1,chessboard)\n",
    "        # comentar este if si queremos más de 1 solucion\n",
    "        if(x==True):\n",
    "            return True\n",
    "        \n",
    "    \n",
    "    # actualizamos el tablero        \n",
    "    x,y = get_coord(move_number-1, chessboard)\n",
    "    chessboard[x,y] = 0\n",
    "    return False\n",
    "            "
   ]
  },
  {
   "cell_type": "code",
   "execution_count": 19,
   "metadata": {},
   "outputs": [],
   "source": [
    "# generamos el main del programa y elegimos el tablero\n",
    "def main():\n",
    "    intro=0\n",
    "    move_number=1\n",
    "    while intro == 0:\n",
    "        size_tablero=input(\"Elija el tamaño del tablero:\")\n",
    "        # Control de errores\n",
    "        if size_tablero.isnumeric():\n",
    "            intro=1\n",
    "            size_tablero= int(size_tablero)\n",
    "        else:\n",
    "            print(\"Valor no válido\")\n",
    "        posicion=input(\"Elija la posición inicial del caballo con la forma [x,y]:\")\n",
    "        # Control de errores\n",
    "        posicion=posicion.split(\",\")\n",
    "        try:\n",
    "            posicion=(int(posicion[0]),int(posicion[1]))\n",
    "            posicion= (posicion[0],posicion[1])\n",
    "            intro=1\n",
    "        except:\n",
    "            print(\"Valor no válido\")\n",
    "            intro=0\n",
    "\n",
    "    chessboard = numpy.zeros((size_tablero, size_tablero))\n",
    "    chessboard[posicion[0],posicion[1]] = move_number\n",
    "    move_number+=1\n",
    "    inicio = time.time()\n",
    "    # llamamos a la funcion recursiva\n",
    "    knights_tour(posicion,size_tablero,move_number,chessboard)\n",
    "    fin = time.time()\n",
    "    # mostramos el numero de soluciones encontradas y imprimimos el tiempo de ejecucion y tablero\n",
    "    for i,j in enumerate(different_solutions):\n",
    "        print(f\"\\nnum sol = {i}\")\n",
    "        print(j)\n",
    "    print(f\"Tiempo de ejecución: {fin-inicio}\")"
   ]
  },
  {
   "cell_type": "code",
   "execution_count": 20,
   "metadata": {},
   "outputs": [
    {
     "name": "stdout",
     "output_type": "stream",
     "text": [
      "numero de soluciones encontradas = 16"
     ]
    },
    {
     "ename": "KeyboardInterrupt",
     "evalue": "",
     "output_type": "error",
     "traceback": [
      "\u001b[1;31m---------------------------------------------------------------------------\u001b[0m",
      "\u001b[1;31mKeyboardInterrupt\u001b[0m                         Traceback (most recent call last)",
      "\u001b[1;32md:\\Ingeniería del conocimiento\\Cono\\Practica_2\\salto_del_caballo_profundidad_heuristica.ipynb Cell 6'\u001b[0m in \u001b[0;36m<cell line: 4>\u001b[1;34m()\u001b[0m\n\u001b[0;32m      <a href='vscode-notebook-cell:/d%3A/Ingenier%C3%ADa%20del%20conocimiento/Cono/Practica_2/salto_del_caballo_profundidad_heuristica.ipynb#ch0000005?line=1'>2</a>\u001b[0m movements\u001b[39m=\u001b[39m[(\u001b[39m1\u001b[39m,\u001b[39m2\u001b[39m),(\u001b[39m2\u001b[39m,\u001b[39m1\u001b[39m),(\u001b[39m2\u001b[39m,\u001b[39m-\u001b[39m\u001b[39m1\u001b[39m),(\u001b[39m1\u001b[39m,\u001b[39m-\u001b[39m\u001b[39m2\u001b[39m),(\u001b[39m-\u001b[39m\u001b[39m1\u001b[39m,\u001b[39m-\u001b[39m\u001b[39m2\u001b[39m),(\u001b[39m-\u001b[39m\u001b[39m2\u001b[39m,\u001b[39m-\u001b[39m\u001b[39m1\u001b[39m),(\u001b[39m-\u001b[39m\u001b[39m2\u001b[39m,\u001b[39m1\u001b[39m),(\u001b[39m-\u001b[39m\u001b[39m1\u001b[39m,\u001b[39m2\u001b[39m)]\n\u001b[0;32m      <a href='vscode-notebook-cell:/d%3A/Ingenier%C3%ADa%20del%20conocimiento/Cono/Practica_2/salto_del_caballo_profundidad_heuristica.ipynb#ch0000005?line=2'>3</a>\u001b[0m movements_order\u001b[39m=\u001b[39m[]\n\u001b[1;32m----> <a href='vscode-notebook-cell:/d%3A/Ingenier%C3%ADa%20del%20conocimiento/Cono/Practica_2/salto_del_caballo_profundidad_heuristica.ipynb#ch0000005?line=3'>4</a>\u001b[0m main()\n",
      "\u001b[1;32md:\\Ingeniería del conocimiento\\Cono\\Practica_2\\salto_del_caballo_profundidad_heuristica.ipynb Cell 5'\u001b[0m in \u001b[0;36mmain\u001b[1;34m()\u001b[0m\n\u001b[0;32m     <a href='vscode-notebook-cell:/d%3A/Ingenier%C3%ADa%20del%20conocimiento/Cono/Practica_2/salto_del_caballo_profundidad_heuristica.ipynb#ch0000004?line=26'>27</a>\u001b[0m inicio \u001b[39m=\u001b[39m time\u001b[39m.\u001b[39mtime()\n\u001b[0;32m     <a href='vscode-notebook-cell:/d%3A/Ingenier%C3%ADa%20del%20conocimiento/Cono/Practica_2/salto_del_caballo_profundidad_heuristica.ipynb#ch0000004?line=27'>28</a>\u001b[0m \u001b[39m# llamamos a la funcion recursiva\u001b[39;00m\n\u001b[1;32m---> <a href='vscode-notebook-cell:/d%3A/Ingenier%C3%ADa%20del%20conocimiento/Cono/Practica_2/salto_del_caballo_profundidad_heuristica.ipynb#ch0000004?line=28'>29</a>\u001b[0m knights_tour(posicion,size_tablero,move_number,chessboard)\n\u001b[0;32m     <a href='vscode-notebook-cell:/d%3A/Ingenier%C3%ADa%20del%20conocimiento/Cono/Practica_2/salto_del_caballo_profundidad_heuristica.ipynb#ch0000004?line=29'>30</a>\u001b[0m fin \u001b[39m=\u001b[39m time\u001b[39m.\u001b[39mtime()\n\u001b[0;32m     <a href='vscode-notebook-cell:/d%3A/Ingenier%C3%ADa%20del%20conocimiento/Cono/Practica_2/salto_del_caballo_profundidad_heuristica.ipynb#ch0000004?line=30'>31</a>\u001b[0m \u001b[39m# mostramos el numero de soluciones encontradas y imprimimos el tiempo de ejecucion y tablero\u001b[39;00m\n",
      "\u001b[1;32md:\\Ingeniería del conocimiento\\Cono\\Practica_2\\salto_del_caballo_profundidad_heuristica.ipynb Cell 4'\u001b[0m in \u001b[0;36mknights_tour\u001b[1;34m(posicion, n, move_number, chessboard)\u001b[0m\n\u001b[0;32m     <a href='vscode-notebook-cell:/d%3A/Ingenier%C3%ADa%20del%20conocimiento/Cono/Practica_2/salto_del_caballo_profundidad_heuristica.ipynb#ch0000003?line=27'>28</a>\u001b[0m chessboard[i[\u001b[39m1\u001b[39m][\u001b[39m0\u001b[39m],i[\u001b[39m1\u001b[39m][\u001b[39m1\u001b[39m]] \u001b[39m=\u001b[39m move_number\n\u001b[0;32m     <a href='vscode-notebook-cell:/d%3A/Ingenier%C3%ADa%20del%20conocimiento/Cono/Practica_2/salto_del_caballo_profundidad_heuristica.ipynb#ch0000003?line=28'>29</a>\u001b[0m \u001b[39m# llamamos recursivamente a la funcion con la posicion actualizada\u001b[39;00m\n\u001b[1;32m---> <a href='vscode-notebook-cell:/d%3A/Ingenier%C3%ADa%20del%20conocimiento/Cono/Practica_2/salto_del_caballo_profundidad_heuristica.ipynb#ch0000003?line=29'>30</a>\u001b[0m x\u001b[39m=\u001b[39mknights_tour(i[\u001b[39m1\u001b[39;49m],n,move_number\u001b[39m+\u001b[39;49m\u001b[39m1\u001b[39;49m,chessboard)\n\u001b[0;32m     <a href='vscode-notebook-cell:/d%3A/Ingenier%C3%ADa%20del%20conocimiento/Cono/Practica_2/salto_del_caballo_profundidad_heuristica.ipynb#ch0000003?line=30'>31</a>\u001b[0m \u001b[39mif\u001b[39;00m(x):\n\u001b[0;32m     <a href='vscode-notebook-cell:/d%3A/Ingenier%C3%ADa%20del%20conocimiento/Cono/Practica_2/salto_del_caballo_profundidad_heuristica.ipynb#ch0000003?line=31'>32</a>\u001b[0m     \u001b[39mbreak\u001b[39;00m\n",
      "\u001b[1;32md:\\Ingeniería del conocimiento\\Cono\\Practica_2\\salto_del_caballo_profundidad_heuristica.ipynb Cell 4'\u001b[0m in \u001b[0;36mknights_tour\u001b[1;34m(posicion, n, move_number, chessboard)\u001b[0m\n\u001b[0;32m     <a href='vscode-notebook-cell:/d%3A/Ingenier%C3%ADa%20del%20conocimiento/Cono/Practica_2/salto_del_caballo_profundidad_heuristica.ipynb#ch0000003?line=27'>28</a>\u001b[0m chessboard[i[\u001b[39m1\u001b[39m][\u001b[39m0\u001b[39m],i[\u001b[39m1\u001b[39m][\u001b[39m1\u001b[39m]] \u001b[39m=\u001b[39m move_number\n\u001b[0;32m     <a href='vscode-notebook-cell:/d%3A/Ingenier%C3%ADa%20del%20conocimiento/Cono/Practica_2/salto_del_caballo_profundidad_heuristica.ipynb#ch0000003?line=28'>29</a>\u001b[0m \u001b[39m# llamamos recursivamente a la funcion con la posicion actualizada\u001b[39;00m\n\u001b[1;32m---> <a href='vscode-notebook-cell:/d%3A/Ingenier%C3%ADa%20del%20conocimiento/Cono/Practica_2/salto_del_caballo_profundidad_heuristica.ipynb#ch0000003?line=29'>30</a>\u001b[0m x\u001b[39m=\u001b[39mknights_tour(i[\u001b[39m1\u001b[39;49m],n,move_number\u001b[39m+\u001b[39;49m\u001b[39m1\u001b[39;49m,chessboard)\n\u001b[0;32m     <a href='vscode-notebook-cell:/d%3A/Ingenier%C3%ADa%20del%20conocimiento/Cono/Practica_2/salto_del_caballo_profundidad_heuristica.ipynb#ch0000003?line=30'>31</a>\u001b[0m \u001b[39mif\u001b[39;00m(x):\n\u001b[0;32m     <a href='vscode-notebook-cell:/d%3A/Ingenier%C3%ADa%20del%20conocimiento/Cono/Practica_2/salto_del_caballo_profundidad_heuristica.ipynb#ch0000003?line=31'>32</a>\u001b[0m     \u001b[39mbreak\u001b[39;00m\n",
      "    \u001b[1;31m[... skipping similar frames: knights_tour at line 30 (50 times)]\u001b[0m\n",
      "\u001b[1;32md:\\Ingeniería del conocimiento\\Cono\\Practica_2\\salto_del_caballo_profundidad_heuristica.ipynb Cell 4'\u001b[0m in \u001b[0;36mknights_tour\u001b[1;34m(posicion, n, move_number, chessboard)\u001b[0m\n\u001b[0;32m     <a href='vscode-notebook-cell:/d%3A/Ingenier%C3%ADa%20del%20conocimiento/Cono/Practica_2/salto_del_caballo_profundidad_heuristica.ipynb#ch0000003?line=27'>28</a>\u001b[0m chessboard[i[\u001b[39m1\u001b[39m][\u001b[39m0\u001b[39m],i[\u001b[39m1\u001b[39m][\u001b[39m1\u001b[39m]] \u001b[39m=\u001b[39m move_number\n\u001b[0;32m     <a href='vscode-notebook-cell:/d%3A/Ingenier%C3%ADa%20del%20conocimiento/Cono/Practica_2/salto_del_caballo_profundidad_heuristica.ipynb#ch0000003?line=28'>29</a>\u001b[0m \u001b[39m# llamamos recursivamente a la funcion con la posicion actualizada\u001b[39;00m\n\u001b[1;32m---> <a href='vscode-notebook-cell:/d%3A/Ingenier%C3%ADa%20del%20conocimiento/Cono/Practica_2/salto_del_caballo_profundidad_heuristica.ipynb#ch0000003?line=29'>30</a>\u001b[0m x\u001b[39m=\u001b[39mknights_tour(i[\u001b[39m1\u001b[39;49m],n,move_number\u001b[39m+\u001b[39;49m\u001b[39m1\u001b[39;49m,chessboard)\n\u001b[0;32m     <a href='vscode-notebook-cell:/d%3A/Ingenier%C3%ADa%20del%20conocimiento/Cono/Practica_2/salto_del_caballo_profundidad_heuristica.ipynb#ch0000003?line=30'>31</a>\u001b[0m \u001b[39mif\u001b[39;00m(x):\n\u001b[0;32m     <a href='vscode-notebook-cell:/d%3A/Ingenier%C3%ADa%20del%20conocimiento/Cono/Practica_2/salto_del_caballo_profundidad_heuristica.ipynb#ch0000003?line=31'>32</a>\u001b[0m     \u001b[39mbreak\u001b[39;00m\n",
      "\u001b[1;32md:\\Ingeniería del conocimiento\\Cono\\Practica_2\\salto_del_caballo_profundidad_heuristica.ipynb Cell 4'\u001b[0m in \u001b[0;36mknights_tour\u001b[1;34m(posicion, n, move_number, chessboard)\u001b[0m\n\u001b[0;32m     <a href='vscode-notebook-cell:/d%3A/Ingenier%C3%ADa%20del%20conocimiento/Cono/Practica_2/salto_del_caballo_profundidad_heuristica.ipynb#ch0000003?line=14'>15</a>\u001b[0m \u001b[39m# obtenemos el numero de hijos que tendran los diferentes nodos\u001b[39;00m\n\u001b[0;32m     <a href='vscode-notebook-cell:/d%3A/Ingenier%C3%ADa%20del%20conocimiento/Cono/Practica_2/salto_del_caballo_profundidad_heuristica.ipynb#ch0000003?line=15'>16</a>\u001b[0m \u001b[39mfor\u001b[39;00m i \u001b[39min\u001b[39;00m movements:\n\u001b[1;32m---> <a href='vscode-notebook-cell:/d%3A/Ingenier%C3%ADa%20del%20conocimiento/Cono/Practica_2/salto_del_caballo_profundidad_heuristica.ipynb#ch0000003?line=16'>17</a>\u001b[0m     x,y \u001b[39m=\u001b[39m get_coord(move_number\u001b[39m-\u001b[39;49m\u001b[39m1\u001b[39;49m, chessboard)\n\u001b[0;32m     <a href='vscode-notebook-cell:/d%3A/Ingenier%C3%ADa%20del%20conocimiento/Cono/Practica_2/salto_del_caballo_profundidad_heuristica.ipynb#ch0000003?line=17'>18</a>\u001b[0m     posicion\u001b[39m=\u001b[39m(x\u001b[39m+\u001b[39mi[\u001b[39m0\u001b[39m],y\u001b[39m+\u001b[39mi[\u001b[39m1\u001b[39m])\n\u001b[0;32m     <a href='vscode-notebook-cell:/d%3A/Ingenier%C3%ADa%20del%20conocimiento/Cono/Practica_2/salto_del_caballo_profundidad_heuristica.ipynb#ch0000003?line=18'>19</a>\u001b[0m     \u001b[39mif\u001b[39;00m get_move(posicion,n,chessboard):\n",
      "\u001b[1;32md:\\Ingeniería del conocimiento\\Cono\\Practica_2\\salto_del_caballo_profundidad_heuristica.ipynb Cell 3'\u001b[0m in \u001b[0;36mget_coord\u001b[1;34m(number, matrix)\u001b[0m\n\u001b[0;32m      <a href='vscode-notebook-cell:/d%3A/Ingenier%C3%ADa%20del%20conocimiento/Cono/Practica_2/salto_del_caballo_profundidad_heuristica.ipynb#ch0000002?line=2'>3</a>\u001b[0m \u001b[39mfor\u001b[39;00m i \u001b[39min\u001b[39;00m \u001b[39mrange\u001b[39m(\u001b[39mlen\u001b[39m(matrix)):\n\u001b[0;32m      <a href='vscode-notebook-cell:/d%3A/Ingenier%C3%ADa%20del%20conocimiento/Cono/Practica_2/salto_del_caballo_profundidad_heuristica.ipynb#ch0000002?line=3'>4</a>\u001b[0m     \u001b[39mfor\u001b[39;00m j \u001b[39min\u001b[39;00m \u001b[39mrange\u001b[39m(\u001b[39mlen\u001b[39m(matrix[i])):\n\u001b[1;32m----> <a href='vscode-notebook-cell:/d%3A/Ingenier%C3%ADa%20del%20conocimiento/Cono/Practica_2/salto_del_caballo_profundidad_heuristica.ipynb#ch0000002?line=4'>5</a>\u001b[0m         \u001b[39mif\u001b[39;00m matrix[i][j] \u001b[39m==\u001b[39;49m number:\n\u001b[0;32m      <a href='vscode-notebook-cell:/d%3A/Ingenier%C3%ADa%20del%20conocimiento/Cono/Practica_2/salto_del_caballo_profundidad_heuristica.ipynb#ch0000002?line=5'>6</a>\u001b[0m             \u001b[39mreturn\u001b[39;00m i, j\n",
      "\u001b[1;31mKeyboardInterrupt\u001b[0m: "
     ]
    }
   ],
   "source": [
    "different_solutions=[]\n",
    "movements=[(1,2),(2,1),(2,-1),(1,-2),(-1,-2),(-2,-1),(-2,1),(-1,2)]\n",
    "movements_order=[]\n",
    "main()"
   ]
  },
  {
   "cell_type": "code",
   "execution_count": null,
   "metadata": {},
   "outputs": [],
   "source": []
  }
 ],
 "metadata": {
  "interpreter": {
   "hash": "e2189b22e4ec1d7e2a352064b41baa27b5b1f9c87390e341ed6206831009eb71"
  },
  "kernelspec": {
   "display_name": "Python 3.7.12 ('Javier_waveinet')",
   "language": "python",
   "name": "python3"
  },
  "language_info": {
   "codemirror_mode": {
    "name": "ipython",
    "version": 3
   },
   "file_extension": ".py",
   "mimetype": "text/x-python",
   "name": "python",
   "nbconvert_exporter": "python",
   "pygments_lexer": "ipython3",
   "version": "3.8.12"
  },
  "orig_nbformat": 4
 },
 "nbformat": 4,
 "nbformat_minor": 2
}
