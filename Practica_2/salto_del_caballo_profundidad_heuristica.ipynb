{
 "cells": [
  {
   "cell_type": "code",
   "execution_count": 6,
   "metadata": {},
   "outputs": [],
   "source": [
    "import numpy\n",
    "import random\n",
    "import time"
   ]
  },
  {
   "cell_type": "markdown",
   "metadata": {},
   "source": [
    "# Definicion de funciones"
   ]
  },
  {
   "cell_type": "code",
   "execution_count": 7,
   "metadata": {},
   "outputs": [],
   "source": [
    "# busqueda de la posicion del caballo mediante el número en el que se encuetra y el tablero\n",
    "def get_coord(number, matrix):\n",
    "    for i in range(len(matrix)):\n",
    "        for j in range(len(matrix[i])):\n",
    "            if matrix[i][j] == number:\n",
    "                return i, j\n",
    "\n",
    "# funcion que devuelve si se puede o no mover el caballo a la posición deseada\n",
    "def get_move(val_pos, n, chessboard):\n",
    "    if (val_pos[0] >= 0) and (val_pos[0] < n) and (val_pos[1] >= 0) and (val_pos[1] < n) and (chessboard[val_pos[0], val_pos[1]] == 0):\n",
    "        return True # Se devuelve True si el movimiento se encuentra dentro del tablero y no se encuentra ocupado\n",
    "    return False\n",
    "\n",
    "# funcion que devuelve el numero de movimientos posibles para el caballo\n",
    "def get_moves_number(val_pos, n, chessboard):\n",
    "    moves = 0\n",
    "    if get_move((val_pos[0] + 2, val_pos[1] + 1), n, chessboard):\n",
    "        moves += 1\n",
    "    if get_move((val_pos[0] + 2, val_pos[1] - 1), n, chessboard):\n",
    "        moves += 1\n",
    "    if get_move((val_pos[0] - 2, val_pos[1] + 1), n, chessboard):\n",
    "        moves += 1\n",
    "    if get_move((val_pos[0] - 2, val_pos[1] - 1), n, chessboard):\n",
    "        moves += 1\n",
    "    if get_move((val_pos[0] + 1, val_pos[1] + 2), n, chessboard):\n",
    "        moves += 1\n",
    "    if get_move((val_pos[0] + 1, val_pos[1] - 2), n, chessboard):\n",
    "        moves += 1\n",
    "    if get_move((val_pos[0] - 1, val_pos[1] + 2), n, chessboard):\n",
    "        moves += 1\n",
    "    if get_move((val_pos[0] - 1, val_pos[1] - 2), n, chessboard):\n",
    "        moves += 1\n",
    "    return moves\n",
    "\n",
    "#funcion para ordenar los movimientos de menor a mayor\n",
    "def bubble_sort(lista):\n",
    "    for i in range(len(lista)-1,0,-1):\n",
    "        for j in range(i):\n",
    "            if lista[j][0]>lista[j+1][0]:\n",
    "                aux=lista[j]\n",
    "                lista[j]=lista[j+1]\n",
    "                lista[j+1]=aux\n",
    "    return lista\n"
   ]
  },
  {
   "cell_type": "code",
   "execution_count": 8,
   "metadata": {},
   "outputs": [],
   "source": [
    "# funcion recursiva para la busqueda de la solucion\n",
    "def knights_tour(posicion,n,move_number,chessboard):\n",
    "    # generamos una copia de la variable global por cada llamada recursiva\n",
    "    global movements_order\n",
    "    movements_order = []\n",
    "    # si el numero de movimientos es igual al numero de casillas del tablero, se ha llegado al final\n",
    "    if move_number>n*n:\n",
    "        #adjuntamos la solucion al array de movimientos\n",
    "        different_solutions.append(chessboard.copy())\n",
    "        print(f\"\\rnumero de soluciones encontradas = {len(different_solutions)}\", end=\"\")\n",
    "        # descomentar esto si queremos mas de una solucion\n",
    "        # x,y = get_coord(move_number-1, chessboard)\n",
    "        # chessboard[x,y] = 0\n",
    "        return True\n",
    "    # obtenemos el numero de hijos que tendran los diferentes nodos\n",
    "    for i in movements:\n",
    "        x,y = get_coord(move_number-1, chessboard)\n",
    "        posicion=(x+i[0],y+i[1])\n",
    "        if get_move(posicion,n,chessboard):\n",
    "            num_valores_aux=get_moves_number(posicion,n,chessboard)\n",
    "            movements_order.append((num_valores_aux,posicion))\n",
    "\n",
    "    # ordenamos los movimientos de menor a mayor segun el numero de hijos\n",
    "    movements_order= bubble_sort(movements_order)\n",
    "    # recorremos los movimientos de menor a mayor\n",
    "    for i in movements_order:\n",
    "        #actualizamos el tablero\n",
    "        chessboard[i[1][0],i[1][1]] = move_number\n",
    "        # llamamos recursivamente a la funcion con la posicion actualizada\n",
    "        x=knights_tour(i[1],n,move_number+1,chessboard)\n",
    "        # comentar este if si queremos más de 1 solucion\n",
    "        if(x==True):\n",
    "            return True\n",
    "        \n",
    "    \n",
    "    # actualizamos el tablero        \n",
    "    x,y = get_coord(move_number-1, chessboard)\n",
    "    chessboard[x,y] = 0\n",
    "    return False\n",
    "            "
   ]
  },
  {
   "cell_type": "code",
   "execution_count": 13,
   "metadata": {},
   "outputs": [],
   "source": [
    "# generamos el main del programa y elegimos el tablero\n",
    "def main():\n",
    "    intro=0\n",
    "    move_number=1\n",
    "    while intro == 0:\n",
    "        size_tablero=input(\"Elija el tamaño del tablero:\")\n",
    "        # Control de errores\n",
    "        if size_tablero.isnumeric():\n",
    "            intro=1\n",
    "            size_tablero= int(size_tablero)\n",
    "        else:\n",
    "            print(\"Valor no válido\")\n",
    "        posicion=input(\"Elija la posición inicial del caballo con la forma x,y:\")\n",
    "        # Control de errores\n",
    "        posicion=posicion.split(\",\")\n",
    "        try:\n",
    "            posicion=(int(posicion[0]),int(posicion[1]))\n",
    "            posicion= (posicion[0],posicion[1])\n",
    "            intro=1\n",
    "        except:\n",
    "            print(\"Valor no válido\")\n",
    "            intro=0\n",
    "\n",
    "    chessboard = numpy.zeros((size_tablero, size_tablero))\n",
    "    chessboard[posicion[0],posicion[1]] = move_number\n",
    "    move_number+=1\n",
    "    inicio = time.time()\n",
    "    # llamamos a la funcion recursiva\n",
    "    knights_tour(posicion,size_tablero,move_number,chessboard)\n",
    "    fin = time.time()\n",
    "    # mostramos el numero de soluciones encontradas y imprimimos el tiempo de ejecucion y tablero\n",
    "    if len(different_solutions)>=1:\n",
    "        for i,j in enumerate(different_solutions):\n",
    "            print(f\"\\nnum sol = {i}\")\n",
    "            print(j)\n",
    "        print(f\"Tiempo de ejecución: {fin-inicio}\")"
   ]
  },
  {
   "cell_type": "code",
   "execution_count": 14,
   "metadata": {},
   "outputs": [
    {
     "name": "stdout",
     "output_type": "stream",
     "text": [
      "numero de soluciones encontradas = 1\n",
      "num sol = 0\n",
      "[[ 1. 12. 25. 18.  3.]\n",
      " [22. 17.  2. 13. 24.]\n",
      " [11.  8. 23.  4. 19.]\n",
      " [16. 21.  6.  9. 14.]\n",
      " [ 7. 10. 15. 20.  5.]]\n",
      "Tiempo de ejecución: 0.001033782958984375\n"
     ]
    }
   ],
   "source": [
    "different_solutions=[]\n",
    "movements=[(1,2),(2,1),(2,-1),(1,-2),(-1,-2),(-2,-1),(-2,1),(-1,2)]\n",
    "movements_order=[]\n",
    "main()"
   ]
  },
  {
   "cell_type": "code",
   "execution_count": null,
   "metadata": {},
   "outputs": [],
   "source": []
  }
 ],
 "metadata": {
  "interpreter": {
   "hash": "e2189b22e4ec1d7e2a352064b41baa27b5b1f9c87390e341ed6206831009eb71"
  },
  "kernelspec": {
   "display_name": "Python 3.7.12 ('Javier_waveinet')",
   "language": "python",
   "name": "python3"
  },
  "language_info": {
   "codemirror_mode": {
    "name": "ipython",
    "version": 3
   },
   "file_extension": ".py",
   "mimetype": "text/x-python",
   "name": "python",
   "nbconvert_exporter": "python",
   "pygments_lexer": "ipython3",
   "version": "3.8.12"
  },
  "orig_nbformat": 4
 },
 "nbformat": 4,
 "nbformat_minor": 2
}
