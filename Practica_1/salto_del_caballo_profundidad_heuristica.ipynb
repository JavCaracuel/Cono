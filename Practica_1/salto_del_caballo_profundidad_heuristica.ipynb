{
 "cells": [
  {
   "cell_type": "code",
   "execution_count": 1,
   "metadata": {},
   "outputs": [
    {
     "name": "stdout",
     "output_type": "stream",
     "text": [
      "pygame 2.1.2 (SDL 2.0.18, Python 3.7.12)\n",
      "Hello from the pygame community. https://www.pygame.org/contribute.html\n"
     ]
    }
   ],
   "source": [
    "import numpy\n",
    "import pygame\n",
    "import random"
   ]
  },
  {
   "cell_type": "markdown",
   "metadata": {},
   "source": [
    "# Definicion de funciones"
   ]
  },
  {
   "cell_type": "code",
   "execution_count": 2,
   "metadata": {},
   "outputs": [],
   "source": [
    "def get_coord(number, matrix):\n",
    "    for i in range(len(matrix)):\n",
    "        for j in range(len(matrix[i])):\n",
    "            if matrix[i][j] == number:\n",
    "                return i, j\n",
    "\n",
    "\n",
    "def get_move(val_pos, n, chessboard):\n",
    "    if (val_pos[0] >= 0) and (val_pos[0] < n) and (val_pos[1] >= 0) and (val_pos[1] < n) and (chessboard[val_pos[0], val_pos[1]] == 0):\n",
    "        return True # Se devuelve True si el movimiento se encuentra dentro del tablero y no se encuentra ocupado\n",
    "    return False\n"
   ]
  },
  {
   "cell_type": "code",
   "execution_count": null,
   "metadata": {},
   "outputs": [],
   "source": [
    "different_solutions=[]\n",
    "movements=[(1,2),(2,1),(2,-1),(1,-2),(-1,-2),(-2,-1),(-2,1),(-1,2)]"
   ]
  },
  {
   "cell_type": "code",
   "execution_count": 2,
   "metadata": {},
   "outputs": [],
   "source": [
    "def knights_tour(posicion,n,move_number,chessboard):\n",
    "\n",
    "    if move_number>n*n:\n",
    "        different_solutions.append(chessboard.copy())\n",
    "        print(f\"\\rnum sol = {len(different_solutions)}\", end=\"\")\n",
    "        x,y = get_coord(move_number-1, chessboard)\n",
    "        chessboard[x,y] = 0\n",
    "        return True\n",
    "\n",
    "    for i in movements:\n",
    "        x,y = get_coord(move_number-1, chessboard)\n",
    "        posicion=(x+i[0],y+i[1])\n",
    "        if get_move(posicion, n, chessboard):\n",
    "            chessboard[posicion[0],posicion[1]] = move_number\n",
    "            knights_tour(posicion,n,move_number+1,chessboard)\n",
    "            \n",
    "    x,y = get_coord(move_number-1, chessboard)\n",
    "    chessboard[x,y] = 0\n",
    "    return False"
   ]
  },
  {
   "cell_type": "code",
   "execution_count": null,
   "metadata": {},
   "outputs": [],
   "source": [
    "def main():\n",
    "    move_number=1\n",
    "    n = int(input(\"Ingrese el tamaño de la matriz: \"))\n",
    "    chessboard = numpy.zeros((n, n))\n",
    "    posicion=(0,0)\n",
    "    chessboard[posicion[0],posicion[1]] = move_number\n",
    "    move_number+=1\n",
    "\n",
    "    knights_tour(posicion,n,move_number,chessboard)\n",
    "    for i,j in enumerate(different_solutions):\n",
    "        print(f\"num sol = {i}\")\n",
    "        print(j)"
   ]
  },
  {
   "cell_type": "code",
   "execution_count": null,
   "metadata": {},
   "outputs": [],
   "source": [
    "main()"
   ]
  }
 ],
 "metadata": {
  "interpreter": {
   "hash": "e2189b22e4ec1d7e2a352064b41baa27b5b1f9c87390e341ed6206831009eb71"
  },
  "kernelspec": {
   "display_name": "Python 3.7.12 ('Javier_waveinet')",
   "language": "python",
   "name": "python3"
  },
  "language_info": {
   "codemirror_mode": {
    "name": "ipython",
    "version": 3
   },
   "file_extension": ".py",
   "mimetype": "text/x-python",
   "name": "python",
   "nbconvert_exporter": "python",
   "pygments_lexer": "ipython3",
   "version": "3.7.12"
  },
  "orig_nbformat": 4
 },
 "nbformat": 4,
 "nbformat_minor": 2
}
