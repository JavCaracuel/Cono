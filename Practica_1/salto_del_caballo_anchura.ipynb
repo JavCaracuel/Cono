{
 "cells": [
  {
   "cell_type": "code",
   "execution_count": 1,
   "metadata": {},
   "outputs": [],
   "source": [
    "import numpy as np\n",
    "import time\n",
    "import random"
   ]
  },
  {
   "cell_type": "markdown",
   "metadata": {},
   "source": [
    "# Definicion de funciones"
   ]
  },
  {
   "cell_type": "code",
   "execution_count": 8,
   "metadata": {},
   "outputs": [],
   "source": [
    "def pintar_camino(tablero, array_solucion):\n",
    "    # en esta funcion pintaremos el recorrido que ha tenido el árbol, despueés de encvontrar la solucion optima.\n",
    "    count = 0\n",
    "    for i in array_solucion:\n",
    "        #contamos en qué posición se encuentra y sumamos una para luego pintar el recorrido\n",
    "        count += 1\n",
    "        tablero[i[0]][i[1]] = count\n",
    "\n",
    "    return tablero"
   ]
  },
  {
   "cell_type": "code",
   "execution_count": 9,
   "metadata": {},
   "outputs": [],
   "source": [
    "def comprobar_posicion_anchura(tablero,ficha_posicion_p):\n",
    "    #en esta funcion veremos cuales son los movimientos posibles de la ficha y los guardaremos junto al padre del que venían\n",
    "    array_hijos = []\n",
    "    aux_count=0\n",
    "    # recorremos los posibles movimientos del caballo\n",
    "    for new_position in [(-1, -2), (1, -2), (-2, -1), (2, -1), (-2, 1), (-1, 2), (1, 2), (2, 1)]:\n",
    "        # si la posicion a la que se intenta mover es menor que 0 o se sale de los limites del tablero, pasamos a la siguiente iteracion del for\n",
    "        if (ficha_posicion_p[0] + new_position[0]) < 0 or (ficha_posicion_p[1] + new_position[1]) < 0 or (ficha_posicion_p[0] + new_position[0]) >= (len(tablero)) or (ficha_posicion_p[1] + new_position[1]) >= (len(tablero[0])):\n",
    "            continue\n",
    "        # si la posicion a la que se mueve del tablero es distinto de 0 entonces no puede moverse ahi porque ya habia pasado por la ficha y se salta a la siguiente iteracion\n",
    "        if tablero[(ficha_posicion_p[0] + new_position[0])][(ficha_posicion_p[1] + new_position[1])] != 0:\n",
    "            continue\n",
    "        aux_count+=1\n",
    "        # si la poscion es válida, añadimos a un array, tanto el sitio donde te vas a mover, como de donde viene.\n",
    "        array_hijos.append([tuple((ficha_posicion_p[0] + new_position[0],ficha_posicion_p[1] + new_position[1])),ficha_posicion_p])\n",
    "\n",
    "    return array_hijos\n",
    "    \n",
    "\n",
    "def seleccion_anchura(tablero,ficha_posicion,array_posible):\n",
    "    \n",
    "    array_posible_lista = []\n",
    "    array_posible_hijos = []\n",
    "    # guardamos en una variable auxiliar, los posibles hijos que tenemos respecto a la ficha posicion\n",
    "    array_posible_hijos = comprobar_posicion_anchura(tablero,ficha_posicion)[0:] \n",
    "    #como hacemos una busqueda en profundidad, hay que comprobar que los hijos no sean solucion y abrir todos sus nodos\n",
    "    #recorremos los posibles hijos\n",
    "    for i in array_posible_hijos:\n",
    "        #añadimos a la lista posible de nodos todos los nodos que se abran de los posibles hijos\n",
    "        array_posible_lista = array_posible_lista + (comprobar_posicion_anchura(tablero,i[0])[0:])\n",
    "        #ponemos a 1 la posicion en la que nos encontramos del for\n",
    "        tablero[i[0][0]][i[0][1]]=1\n",
    "        #comprobamos que no se haya llegado a la solucion\n",
    "        if (np.count_nonzero(tablero)==size_tablero**2):\n",
    "            lista_soluciones.append(array_solucion)\n",
    "            return 1\n",
    "        # si ese hijo no esta, pone su posicion del tablero a 0\n",
    "        tablero[i[0][0]][i[0][1]]=0\n",
    "    #guardamos la posicion del recorrido del arbol en un array\n",
    "    array_solucion.append(ficha_posicion)\n",
    "    #ponemos a 1 dicha posicion\n",
    "    tablero[array_solucion[len(array_solucion)-1][0]][array_solucion[len(array_solucion)-1][1]]=1\n",
    "    #volvemos a comprobar que el tablero no se haya completado\n",
    "    if (np.count_nonzero(tablero)==size_tablero**2):\n",
    "        #si se ha llenado de 1, se añade la solcion\n",
    "        lista_soluciones.append(array_solucion)\n",
    "        return 1\n",
    "    aux_count = 0\n",
    "    #recorremos los posibles hijos candidatos\n",
    "    for i in array_posible_hijos:\n",
    "        aux_count += 1    \n",
    "        # si el padre del hijo, es el mismo que la posicion en la que nos encontramos, significa que debemmos seguir buscando por ahi\n",
    "        if i[1]==ficha_posicion:\n",
    "            #ficha_posicion=i[0]\n",
    "            # llamamos de nuevo a la funcion recursiva con la nueva posicion en la que nos encontramos\n",
    "            resultado=seleccion_anchura(tablero,i[0],array_posible_lista)\n",
    "            # si resultado es distinto de 0, significa que ha encontrado una solucion y debe salirse recursivamente hacia atras.\n",
    "            if resultado!=0:\n",
    "                return resultado\n",
    "    # si una vez recorrido el for de hijos, y ninguno de los padres de ellos se corresponde con la posicion actual, ponemos la posicion en la que nos encontramos a 0 y quitamos de la lista \n",
    "    # de soluciones la ultima que se añadió\n",
    "    tablero[array_solucion[len(array_solucion)-1][0]][array_solucion[len(array_solucion)-1][1]]=0\n",
    "    array_solucion.pop()\n",
    "    #devolvemos 0, lo que nos hará irnos hacia el for de la recursividad anterior y seguir explorando los hijos que quedan.\n",
    "    return 0"
   ]
  },
  {
   "cell_type": "markdown",
   "metadata": {},
   "source": [
    "# Declaracion de variables e inicio del juego"
   ]
  },
  {
   "cell_type": "code",
   "execution_count": 10,
   "metadata": {},
   "outputs": [
    {
     "name": "stdout",
     "output_type": "stream",
     "text": [
      "Elija el tamaño del tablero:\n",
      "Valor no válido\n",
      "Elija el tamaño del tablero:\n"
     ]
    }
   ],
   "source": [
    "intro=0\n",
    "size_tablero= 0\n",
    "# elejimos el tamaño del tablero y comprobamos que se haya introducido bien\n",
    "while intro == 0:\n",
    "    print(\"Elija el tamaño del tablero:\")\n",
    "    size_tablero=input()\n",
    "    if size_tablero.isnumeric():\n",
    "        intro=1\n",
    "        size_tablero= int(size_tablero)\n",
    "    else:\n",
    "        print(\"Valor no válido\")\n",
    "\n",
    "tablero = np.zeros((size_tablero, size_tablero))"
   ]
  },
  {
   "cell_type": "code",
   "execution_count": 11,
   "metadata": {},
   "outputs": [
    {
     "name": "stdout",
     "output_type": "stream",
     "text": [
      "[[1. 0. 0. 0. 0.]\n",
      " [0. 0. 0. 0. 0.]\n",
      " [0. 0. 0. 0. 0.]\n",
      " [0. 0. 0. 0. 0.]\n",
      " [0. 0. 0. 0. 0.]]\n"
     ]
    }
   ],
   "source": [
    "#declaramos todas la variables necesarias para la ejecucion\n",
    "# ficha_posicion_r=(random.randint(0,size_tablero-1),random.randint(0,size_tablero-1))\n",
    "ficha_posicion_r=(0,0)\n",
    "num_paso=1\n",
    "tablero[ficha_posicion_r[0]][ficha_posicion_r[1]]=num_paso\n",
    "lista_soluciones = []\n",
    "print(tablero)\n",
    "juego=0\n",
    "array_posible_real=[]\n",
    "array_solucion=[]\n",
    "array_posible_real.insert(0,[ficha_posicion_r,(-1,-1)])"
   ]
  },
  {
   "cell_type": "markdown",
   "metadata": {},
   "source": [
    "## Implementación en anchura\n"
   ]
  },
  {
   "cell_type": "code",
   "execution_count": 12,
   "metadata": {},
   "outputs": [],
   "source": [
    "#implementamos una llamada al tiempo que tarda en hacerse y se invoca a la funcion recursiva con los valores iniciales\n",
    "inicio =  time.time()\n",
    "seleccion_anchura(tablero,ficha_posicion_r,array_posible_real)\n",
    "fin = time.time()"
   ]
  },
  {
   "cell_type": "code",
   "execution_count": 13,
   "metadata": {},
   "outputs": [
    {
     "name": "stdout",
     "output_type": "stream",
     "text": [
      "Juego terminado\n",
      "[(0, 0), (1, 2), (2, 0), (0, 1), (1, 3), (3, 4), (2, 2), (4, 1), (3, 3), (1, 4), (0, 2), (1, 0), (3, 1), (4, 3), (2, 4), (0, 3), (1, 1), (3, 0), (4, 2), (2, 1), (4, 0), (3, 2), (4, 4), (2, 3), (0, 4)]\n",
      "Tiempo: 0.503532886505127\n",
      "Tablero:\n",
      " [[ 1.  4. 11. 16. 25.]\n",
      " [12. 17.  2.  5. 10.]\n",
      " [ 3. 20.  7. 24. 15.]\n",
      " [18. 13. 22.  9.  6.]\n",
      " [21.  8. 19. 14. 23.]]\n"
     ]
    }
   ],
   "source": [
    "#termina el juego y pintamos las soluciones\n",
    "print(\"Juego terminado\")\n",
    "if len(lista_soluciones) == 0:\n",
    "    print(\"No tiene solucion\")\n",
    "else:\n",
    "    for i in lista_soluciones:\n",
    "        pintar_camino(tablero, i)\n",
    "        print(i)\n",
    "        print(\"Tiempo:\",fin-inicio)\n",
    "\n",
    "        print(\"Tablero:\\n\",tablero)"
   ]
  },
  {
   "cell_type": "code",
   "execution_count": null,
   "metadata": {},
   "outputs": [],
   "source": []
  }
 ],
 "metadata": {
  "interpreter": {
   "hash": "e2189b22e4ec1d7e2a352064b41baa27b5b1f9c87390e341ed6206831009eb71"
  },
  "kernelspec": {
   "display_name": "Python 3.7.12 ('Javier_waveinet')",
   "language": "python",
   "name": "python3"
  },
  "language_info": {
   "codemirror_mode": {
    "name": "ipython",
    "version": 3
   },
   "file_extension": ".py",
   "mimetype": "text/x-python",
   "name": "python",
   "nbconvert_exporter": "python",
   "pygments_lexer": "ipython3",
   "version": "3.8.12"
  },
  "orig_nbformat": 4
 },
 "nbformat": 4,
 "nbformat_minor": 2
}
