{
 "cells": [
  {
   "cell_type": "code",
   "execution_count": 1,
   "metadata": {},
   "outputs": [
    {
     "name": "stdout",
     "output_type": "stream",
     "text": [
      "pygame 2.1.2 (SDL 2.0.18, Python 3.7.12)\n",
      "Hello from the pygame community. https://www.pygame.org/contribute.html\n"
     ]
    }
   ],
   "source": [
    "import numpy\n",
    "import pygame\n",
    "import random"
   ]
  },
  {
   "cell_type": "markdown",
   "metadata": {},
   "source": [
    "# Definicion de funciones"
   ]
  },
  {
   "cell_type": "code",
   "execution_count": 4,
   "metadata": {},
   "outputs": [
    {
     "ename": "TypeError",
     "evalue": "cannot unpack non-iterable bool object",
     "output_type": "error",
     "traceback": [
      "\u001b[1;31m---------------------------------------------------------------------------\u001b[0m",
      "\u001b[1;31mTypeError\u001b[0m                                 Traceback (most recent call last)",
      "\u001b[1;32m~\\AppData\\Local\\Temp\\ipykernel_572\\2141340833.py\u001b[0m in \u001b[0;36m<module>\u001b[1;34m\u001b[0m\n\u001b[0;32m      2\u001b[0m \u001b[0mchessboard\u001b[0m\u001b[1;33m[\u001b[0m\u001b[1;36m2\u001b[0m\u001b[1;33m]\u001b[0m\u001b[1;33m[\u001b[0m\u001b[1;36m2\u001b[0m\u001b[1;33m]\u001b[0m \u001b[1;33m=\u001b[0m \u001b[1;36m1\u001b[0m\u001b[1;33m\u001b[0m\u001b[1;33m\u001b[0m\u001b[0m\n\u001b[0;32m      3\u001b[0m \u001b[1;33m\u001b[0m\u001b[0m\n\u001b[1;32m----> 4\u001b[1;33m \u001b[0mpepe\u001b[0m\u001b[1;33m,\u001b[0m\u001b[0mkk\u001b[0m\u001b[1;33m=\u001b[0m \u001b[1;36m1\u001b[0m \u001b[1;32min\u001b[0m \u001b[0mchessboard\u001b[0m\u001b[1;33m\u001b[0m\u001b[1;33m\u001b[0m\u001b[0m\n\u001b[0m\u001b[0;32m      5\u001b[0m \u001b[1;33m\u001b[0m\u001b[0m\n\u001b[0;32m      6\u001b[0m \u001b[0mpepe\u001b[0m\u001b[1;33m\u001b[0m\u001b[1;33m\u001b[0m\u001b[0m\n",
      "\u001b[1;31mTypeError\u001b[0m: cannot unpack non-iterable bool object"
     ]
    }
   ],
   "source": [
    "n = int(input(\"Ingrese el tamaño de la matriz: \"))\n",
    "chessboard = numpy.zeros((n, n))\n",
    "possible_moves=[]\n",
    "possible_moves_pos=[]\n",
    "\n",
    "# get coordenates of number in matrix\n",
    "def get_coord(number, matrix):\n",
    "    for i in range(len(matrix)):\n",
    "        for j in range(len(matrix[i])):\n",
    "            if matrix[i][j] == number:\n",
    "                return i, j\n",
    "\n",
    "def get_moves(row, col):\n",
    "    # Move up\n",
    "    if row - 2 >= 0 and col - 1 >= 0 and chessboard[row - 2][col - 1] == 0:\n",
    "        possible_moves.append((row - 2, col - 1))\n",
    "\n",
    "    if row - 2 >= 0 and col + 1 < n and chessboard[row - 2][col + 1] == 0:\n",
    "        possible_moves.append((row - 2, col + 1))\n",
    "\n",
    "    # Move down\n",
    "    if row + 2 < n and col - 1 >= 0 and chessboard[row + 2][col - 1] == 0:\n",
    "        possible_moves.append((row + 2, col - 1))\n",
    "\n",
    "    if row + 2 < n and col + 1 < n and chessboard[row + 2][col + 1] == 0:\n",
    "        possible_moves.append((row + 2, col + 1))\n",
    "\n",
    "    # Move left\n",
    "    if row - 1 >= 0 and col - 2 >= 0 and chessboard[row - 1][col - 2] == 0:\n",
    "        possible_moves.append((row - 1, col - 2))\n",
    "\n",
    "    if row + 1 < n and col - 2 >= 0 and chessboard[row + 1][col - 2] == 0:\n",
    "        possible_moves.append((row + 1, col - 2))\n",
    "\n",
    "    # Move right\n",
    "    if row - 1 >= 0 and col + 2 < n and chessboard[row - 1][col + 2] == 0:\n",
    "        possible_moves.append((row - 1, col + 2))\n",
    "\n",
    "    if row + 1 < n and col + 2 < n and chessboard[row + 1][col + 2] == 0:\n",
    "        possible_moves.append((row + 1, col + 2))\n"
   ]
  },
  {
   "cell_type": "code",
   "execution_count": 2,
   "metadata": {},
   "outputs": [],
   "source": [
    "def knights_tour(n):\n",
    "    # Initialize the knight's position\n",
    "    row = 0\n",
    "    col = 0\n",
    "\n",
    "    # Initialize the move number\n",
    "    move_number = 1\n",
    "\n",
    "    # While the knight's tour is not complete\n",
    "    while move_number <= n * n:\n",
    "        # If the knight's tour is complete, break\n",
    "        # if chessboard[row][col] != 0:\n",
    "        #     break\n",
    "\n",
    "        # Mark the current position as visited\n",
    "        chessboard[row][col] = move_number\n",
    "\n",
    "        # Increment the move number\n",
    "        move_number += 1\n",
    "\n",
    "        # Find all possible next moves from the current position\n",
    "\n",
    "        get_moves(row, col)\n",
    "\n",
    "        # If there are no possible moves, backtrack\n",
    "        if len(possible_moves_pos) == 0:\n",
    "            move_number -= 1\n",
    "            chessboard[row][col] = 0\n",
    "            row, col = get_coord(move_number, chessboard)\n",
    "            possible_moves.pop(0)\n",
    "        # If there is only one possible move, go there\n",
    "        else:\n",
    "            possible_moves.insert(0, possible_moves_pos)\n",
    "            row, col=possible_moves[0]\n",
    "\n",
    "        # elif len(possible_moves) == 1:\n",
    "        #     row, col = possible_moves[0]\n",
    "        # # If there are more than one possible moves, choose the best one\n",
    "        # else:\n",
    "        #     # Find the nearest position\n",
    "        #     nearest_pos = possible_moves[0]\n",
    "        #     min_distance = abs(row - possible_moves[0][0]) + abs(col - possible_moves[0][1])\n",
    "\n",
    "        #     for i in range(1, len(possible_moves)):\n",
    "        #         distance = abs(row - possible_moves[i][0]) + abs(col - possible_moves[i][1])\n",
    "        #         if distance < min_distance:\n",
    "        #             nearest_pos = possible_moves[i]\n",
    "        #             min_distance = distance\n",
    "\n",
    "        #     row, col = nearest_pos\n",
    "    print(chessboard)\n",
    "\n",
    "knights_tour(n)"
   ]
  }
 ],
 "metadata": {
  "interpreter": {
   "hash": "e2189b22e4ec1d7e2a352064b41baa27b5b1f9c87390e341ed6206831009eb71"
  },
  "kernelspec": {
   "display_name": "Python 3.7.12 ('Javier_waveinet')",
   "language": "python",
   "name": "python3"
  },
  "language_info": {
   "codemirror_mode": {
    "name": "ipython",
    "version": 3
   },
   "file_extension": ".py",
   "mimetype": "text/x-python",
   "name": "python",
   "nbconvert_exporter": "python",
   "pygments_lexer": "ipython3",
   "version": "3.7.12"
  },
  "orig_nbformat": 4
 },
 "nbformat": 4,
 "nbformat_minor": 2
}
