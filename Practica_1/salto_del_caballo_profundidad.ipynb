{
 "cells": [
  {
   "cell_type": "code",
   "execution_count": 1,
   "metadata": {},
   "outputs": [
    {
     "name": "stdout",
     "output_type": "stream",
     "text": [
      "pygame 2.1.2 (SDL 2.0.18, Python 3.8.12)\n",
      "Hello from the pygame community. https://www.pygame.org/contribute.html\n"
     ]
    }
   ],
   "source": [
    "import numpy as np\n",
    "import time\n",
    "import random"
   ]
  },
  {
   "cell_type": "markdown",
   "metadata": {},
   "source": [
    "# Definicion de funciones"
   ]
  },
  {
   "cell_type": "code",
   "execution_count": 17,
   "metadata": {},
   "outputs": [],
   "source": [
    "def pintar_camino(tablero, array_solucion):\n",
    "    # en esta funcion pintaremos el recorrido que ha tenido el árbol, despueés de encvontrar la solucion optima.\n",
    "    count = 0\n",
    "    for i in array_solucion:\n",
    "        #contamos en qué posición se encuentra y sumamos una para luego pintar el recorrido\n",
    "        count += 1\n",
    "        tablero[i[0]][i[1]] = count\n",
    "\n",
    "    return tablero"
   ]
  },
  {
   "cell_type": "code",
   "execution_count": 18,
   "metadata": {},
   "outputs": [],
   "source": [
    "def comprobar_posicion_profundidad(tablero,ficha_posicion_p):\n",
    "    array_hijos = []\n",
    "    aux_count=0\n",
    "    for new_position in [(-1, -2), (1, -2), (-2, -1), (2, -1), (-2, 1), (-1, 2), (1, 2), (2, 1)]:\n",
    "        if (ficha_posicion_p[0] + new_position[0]) < 0 or (ficha_posicion_p[1] + new_position[1]) < 0 or (ficha_posicion_p[0] + new_position[0]) >= (len(tablero)) or (ficha_posicion_p[1] + new_position[1]) >= (len(tablero[0])):\n",
    "            continue\n",
    "\n",
    "        if tablero[(ficha_posicion_p[0] + new_position[0])][(ficha_posicion_p[1] + new_position[1])] != 0:\n",
    "            continue\n",
    "        aux_count+=1\n",
    "        array_hijos.insert(0,[tuple((ficha_posicion_p[0] + new_position[0],ficha_posicion_p[1] + new_position[1])),ficha_posicion_p])\n",
    "\n",
    "    return array_hijos\n",
    "    \n",
    "\n",
    "def seleccion_profundidad(tablero,ficha_posicion,array_posible):\n",
    "    \n",
    "    array_posible_lista = []\n",
    "\n",
    "    array_posible_lista = comprobar_posicion_profundidad(tablero,ficha_posicion)[0:] \n",
    "    array_solucion.append(ficha_posicion)\n",
    "    tablero[array_solucion[len(array_solucion)-1][0]][array_solucion[len(array_solucion)-1][1]]=1\n",
    "    \n",
    "    if (np.count_nonzero(tablero)==size_tablero**2):\n",
    "        lista_soluciones.append(array_solucion)\n",
    "        return 1\n",
    "    aux_count = 0\n",
    "    for i in array_posible_lista:\n",
    "        aux_count += 1    \n",
    "        #print(aux_count)\n",
    "        if i[1]==ficha_posicion:\n",
    "            #ficha_posicion=i[0]\n",
    "            resultado=seleccion_profundidad(tablero,i[0],array_posible_lista)\n",
    "            if resultado!=0:\n",
    "                return resultado\n",
    "    \n",
    "    tablero[array_solucion[len(array_solucion)-1][0]][array_solucion[len(array_solucion)-1][1]]=0\n",
    "    array_solucion.pop()\n",
    "    return 0\n",
    "\n",
    "    "
   ]
  },
  {
   "cell_type": "markdown",
   "metadata": {},
   "source": [
    "# Declaracion de variables e inicio del juego"
   ]
  },
  {
   "cell_type": "code",
   "execution_count": 19,
   "metadata": {},
   "outputs": [
    {
     "name": "stdout",
     "output_type": "stream",
     "text": [
      "Elija el tamaño del tablero:\n"
     ]
    }
   ],
   "source": [
    "#definición de variables\n",
    "intro=0\n",
    "size_tablero= 0\n",
    "while intro == 0:\n",
    "    print(\"Elija el tamaño del tablero:\")\n",
    "    size_tablero=input()\n",
    "    if size_tablero.isnumeric():\n",
    "        intro=1\n",
    "        size_tablero= int(size_tablero)\n",
    "    else:\n",
    "        print(\"Valor no válido\")\n",
    "\n",
    "tablero = np.zeros((size_tablero, size_tablero))"
   ]
  },
  {
   "cell_type": "code",
   "execution_count": 20,
   "metadata": {},
   "outputs": [
    {
     "name": "stdout",
     "output_type": "stream",
     "text": [
      "[[1. 0. 0. 0. 0. 0. 0.]\n",
      " [0. 0. 0. 0. 0. 0. 0.]\n",
      " [0. 0. 0. 0. 0. 0. 0.]\n",
      " [0. 0. 0. 0. 0. 0. 0.]\n",
      " [0. 0. 0. 0. 0. 0. 0.]\n",
      " [0. 0. 0. 0. 0. 0. 0.]\n",
      " [0. 0. 0. 0. 0. 0. 0.]]\n"
     ]
    }
   ],
   "source": [
    "ficha_posicion_r=(random.randint(0,size_tablero-1),random.randint(0,size_tablero-1))\n",
    "#ficha_posicion_r=(0,0)\n",
    "num_paso=1\n",
    "tablero[ficha_posicion_r[0]][ficha_posicion_r[1]]=num_paso\n",
    "lista_soluciones = []\n",
    "print(tablero)\n",
    "juego=0\n",
    "array_posible_real=[]\n",
    "array_solucion=[]\n",
    "array_posible_real.insert(0,[ficha_posicion_r,(-1,-1)])"
   ]
  },
  {
   "cell_type": "code",
   "execution_count": 21,
   "metadata": {},
   "outputs": [
    {
     "data": {
      "text/plain": [
       "1"
      ]
     },
     "execution_count": 21,
     "metadata": {},
     "output_type": "execute_result"
    }
   ],
   "source": [
    "seleccion_profundidad(tablero,ficha_posicion_r,array_posible_real)"
   ]
  },
  {
   "cell_type": "code",
   "execution_count": 22,
   "metadata": {},
   "outputs": [
    {
     "name": "stdout",
     "output_type": "stream",
     "text": [
      "Juego terminado\n",
      "[(0, 0), (2, 1), (4, 2), (6, 3), (5, 5), (3, 6), (1, 5), (3, 4), (4, 6), (6, 5), (4, 4), (5, 6), (3, 5), (1, 6), (2, 4), (4, 5), (6, 6), (5, 4), (3, 3), (2, 5), (0, 6), (1, 4), (2, 6), (0, 5), (1, 3), (3, 2), (5, 3), (6, 1), (4, 0), (5, 2), (6, 4), (4, 3), (5, 1), (3, 0), (1, 1), (0, 3), (2, 2), (0, 1), (2, 0), (1, 2), (0, 4), (2, 3), (0, 2), (1, 0), (3, 1), (5, 0), (6, 2), (4, 1), (6, 0)]\n",
      "Tablero:\n",
      " [[ 1. 38. 43. 36. 41. 24. 21.]\n",
      " [44. 35. 40. 25. 22.  7. 14.]\n",
      " [39.  2. 37. 42. 15. 20. 23.]\n",
      " [34. 45. 26. 19.  8. 13.  6.]\n",
      " [29. 48.  3. 32. 11. 16.  9.]\n",
      " [46. 33. 30. 27. 18.  5. 12.]\n",
      " [49. 28. 47.  4. 31. 10. 17.]]\n"
     ]
    }
   ],
   "source": [
    "print(\"Juego terminado\")\n",
    "if len(lista_soluciones) == 0:\n",
    "    print(\"No tiene solucion\")\n",
    "else:\n",
    "    for i in lista_soluciones:\n",
    "        pintar_camino(tablero, i)\n",
    "        print(i)\n",
    "        #print(\"Tiempo:\",fin-inicio)\n",
    "\n",
    "        print(\"Tablero:\\n\",tablero)\n"
   ]
  },
  {
   "cell_type": "code",
   "execution_count": null,
   "metadata": {},
   "outputs": [],
   "source": []
  }
 ],
 "metadata": {
  "interpreter": {
   "hash": "e2189b22e4ec1d7e2a352064b41baa27b5b1f9c87390e341ed6206831009eb71"
  },
  "kernelspec": {
   "display_name": "Python 3.7.12 ('Javier_waveinet')",
   "language": "python",
   "name": "python3"
  },
  "language_info": {
   "codemirror_mode": {
    "name": "ipython",
    "version": 3
   },
   "file_extension": ".py",
   "mimetype": "text/x-python",
   "name": "python",
   "nbconvert_exporter": "python",
   "pygments_lexer": "ipython3",
   "version": "3.8.12"
  },
  "orig_nbformat": 4
 },
 "nbformat": 4,
 "nbformat_minor": 2
}
