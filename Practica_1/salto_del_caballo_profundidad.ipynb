{
 "cells": [
  {
   "cell_type": "code",
   "execution_count": 12,
   "metadata": {},
   "outputs": [],
   "source": [
    "import numpy as np\n",
    "import time\n",
    "import random"
   ]
  },
  {
   "cell_type": "markdown",
   "metadata": {},
   "source": [
    "# Definicion de funciones"
   ]
  },
  {
   "cell_type": "code",
   "execution_count": 19,
   "metadata": {},
   "outputs": [],
   "source": [
    "def pintar_camino(tablero, array_solucion):\n",
    "    # en esta funcion pintaremos el recorrido que ha tenido el árbol, despueés de encvontrar la solucion optima.\n",
    "    count = 0\n",
    "    for i in array_solucion:\n",
    "        #contamos en qué posición se encuentra y sumamos una para luego pintar el recorrido\n",
    "        count += 1\n",
    "        tablero[i[0]][i[1]] = count\n",
    "\n",
    "    return tablero"
   ]
  },
  {
   "cell_type": "code",
   "execution_count": 20,
   "metadata": {},
   "outputs": [],
   "source": [
    "# Funcion para comprobar si los hijos generados son válidos\n",
    "def comprobar_posicion_profundidad(tablero,ficha_posicion_p):\n",
    "    # Creamos una lista vacia que almacenará los hijos creados\n",
    "    array_hijos = []\n",
    "    # Creamos una variable contador para poder\n",
    "    aux_count=0\n",
    "    # Recorremos los posibles caminos a seguir\n",
    "    for new_position in [(-1, -2), (1, -2), (-2, -1), (2, -1), (-2, 1), (-1, 2), (1, 2), (2, 1)]:\n",
    "        # Si está fuera del tablero no lo hara\n",
    "        if (ficha_posicion_p[0] + new_position[0]) < 0 or (ficha_posicion_p[1] + new_position[1]) < 0 or (ficha_posicion_p[0] + new_position[0]) >= (len(tablero)) or (ficha_posicion_p[1] + new_position[1]) >= (len(tablero[0])):\n",
    "            continue\n",
    "\n",
    "        # Comprueba que esa posicion no haya sido visitada con anterioridad\n",
    "        if tablero[(ficha_posicion_p[0] + new_position[0])][(ficha_posicion_p[1] + new_position[1])] != 0:\n",
    "            continue\n",
    "        aux_count+=1\n",
    "        # Incluimos los hijos en la lista\n",
    "        array_hijos.insert(0,[tuple((ficha_posicion_p[0] + new_position[0],ficha_posicion_p[1] + new_position[1])),ficha_posicion_p])\n",
    "\n",
    "    # devolvemos la nueva lista con los hijos creados\n",
    "    return array_hijos\n",
    "    \n",
    "\n",
    "# Esta sera la funcion recursiva que hara la busqueda\n",
    "def seleccion_profundidad(tablero,ficha_posicion,array_posible):\n",
    "    \n",
    "    # Inicializamos la lista\n",
    "    array_posible_lista = []\n",
    "\n",
    "    # Llamamos a la funcion que genera los hijos\n",
    "    array_posible_lista = comprobar_posicion_profundidad(tablero,ficha_posicion)[0:] \n",
    "    # añadimos a la lista que contendra la solucion la posicion actual \n",
    "    array_solucion.append(ficha_posicion)\n",
    "    # Marcamos como ya visitada esa posicion del tablero\n",
    "    tablero[array_solucion[len(array_solucion)-1][0]][array_solucion[len(array_solucion)-1][1]]=1\n",
    "    \n",
    "    # Comprobamos si ya hemos llegado a la solucion contando el numero de valores distintos de 0\n",
    "    if (np.count_nonzero(tablero)==size_tablero**2):\n",
    "        # Si no hay ningun 0, hemos visitado todo el tablero y por tanto contamos con una solucion\n",
    "        lista_soluciones.append(array_solucion)\n",
    "        # Devolvemos 1 y salimos recursivamente de la funcion\n",
    "        return 1\n",
    "    aux_count = 0\n",
    "    # En caso de no haber llegado a la solucion, continuamos\n",
    "    # Recorremos la lista de hijos generados\n",
    "    for i in array_posible_lista:\n",
    "        aux_count += 1    \n",
    "        # si el padre del nodo en esa iteracion es la ficha actual\n",
    "        if i[1]==ficha_posicion:\n",
    "            # LLamamos recursivamente a la funcion con el hijo\n",
    "            resultado=seleccion_profundidad(tablero,i[0],array_posible_lista)\n",
    "            # Comprobamos que el return no haya terminado la funcion\n",
    "            if resultado!=0:\n",
    "                return resultado\n",
    "    \n",
    "    # Si sale del for, significa que ha dejado de llamar recursivamente a la funcion y esa posicion no tiene hijos, siendo un callejon sin salida\n",
    "    # Eliminamos la marca en el tablero\n",
    "    tablero[array_solucion[len(array_solucion)-1][0]][array_solucion[len(array_solucion)-1][1]]=0\n",
    "    # Eliminamos el nodo de la lista de solucion\n",
    "    array_solucion.pop()\n",
    "    return 0\n",
    "\n",
    "    "
   ]
  },
  {
   "cell_type": "markdown",
   "metadata": {},
   "source": [
    "# Declaracion de variables e inicio del juego"
   ]
  },
  {
   "cell_type": "code",
   "execution_count": 29,
   "metadata": {},
   "outputs": [
    {
     "name": "stdout",
     "output_type": "stream",
     "text": [
      "Elija el tamaño del tablero:\n"
     ]
    }
   ],
   "source": [
    "#definición de variables\n",
    "intro=0\n",
    "size_tablero= 0\n",
    "# Pedimos por pantalla la posicion del tablero\n",
    "while intro == 0:\n",
    "    print(\"Elija el tamaño del tablero:\")\n",
    "    size_tablero=input()\n",
    "    # Control de errores\n",
    "    if size_tablero.isnumeric():\n",
    "        intro=1\n",
    "        size_tablero= int(size_tablero)\n",
    "    else:\n",
    "        print(\"Valor no válido\")\n",
    "\n",
    "# Iniciamos la matriz de tablero a 0\n",
    "tablero = np.zeros((size_tablero, size_tablero))"
   ]
  },
  {
   "cell_type": "code",
   "execution_count": 30,
   "metadata": {},
   "outputs": [
    {
     "name": "stdout",
     "output_type": "stream",
     "text": [
      "[[1. 0. 0. 0. 0. 0. 0. 0.]\n",
      " [0. 0. 0. 0. 0. 0. 0. 0.]\n",
      " [0. 0. 0. 0. 0. 0. 0. 0.]\n",
      " [0. 0. 0. 0. 0. 0. 0. 0.]\n",
      " [0. 0. 0. 0. 0. 0. 0. 0.]\n",
      " [0. 0. 0. 0. 0. 0. 0. 0.]\n",
      " [0. 0. 0. 0. 0. 0. 0. 0.]\n",
      " [0. 0. 0. 0. 0. 0. 0. 0.]]\n"
     ]
    }
   ],
   "source": [
    "# Inicializamos variables\n",
    "#ficha_posicion_r=(random.randint(0,3),random.randint(0,3))\n",
    "ficha_posicion_r=(0,0)\n",
    "num_paso=1\n",
    "tablero[ficha_posicion_r[0]][ficha_posicion_r[1]]=num_paso\n",
    "lista_soluciones = []\n",
    "print(tablero)\n",
    "juego=0\n",
    "array_posible_real=[]\n",
    "array_solucion=[]\n",
    "array_posible_real.insert(0,[ficha_posicion_r,(-1,-1)])"
   ]
  },
  {
   "cell_type": "code",
   "execution_count": 31,
   "metadata": {},
   "outputs": [],
   "source": [
    "# Aqui comienza la busqueda\n",
    "inicio = time.time()\n",
    "seleccion_profundidad(tablero,ficha_posicion_r,array_posible_real)\n",
    "fin = time.time()\n",
    "# Aqui termina"
   ]
  },
  {
   "cell_type": "code",
   "execution_count": 28,
   "metadata": {},
   "outputs": [
    {
     "name": "stdout",
     "output_type": "stream",
     "text": [
      "Juego terminado\n",
      "[(0, 0), (2, 1), (4, 2), (6, 3), (5, 5), (3, 6), (1, 5), (3, 4), (4, 6), (6, 5), (4, 4), (5, 6), (3, 5), (1, 6), (2, 4), (4, 5), (6, 6), (5, 4), (3, 3), (2, 5), (0, 6), (1, 4), (2, 6), (0, 5), (1, 3), (3, 2), (5, 3), (6, 1), (4, 0), (5, 2), (6, 4), (4, 3), (5, 1), (3, 0), (1, 1), (0, 3), (2, 2), (0, 1), (2, 0), (1, 2), (0, 4), (2, 3), (0, 2), (1, 0), (3, 1), (5, 0), (6, 2), (4, 1), (6, 0)]\n",
      "Tiempo: 0.013998746871948242\n",
      "Tablero:\n",
      " [[ 1. 38. 43. 36. 41. 24. 21.]\n",
      " [44. 35. 40. 25. 22.  7. 14.]\n",
      " [39.  2. 37. 42. 15. 20. 23.]\n",
      " [34. 45. 26. 19.  8. 13.  6.]\n",
      " [29. 48.  3. 32. 11. 16.  9.]\n",
      " [46. 33. 30. 27. 18.  5. 12.]\n",
      " [49. 28. 47.  4. 31. 10. 17.]]\n"
     ]
    }
   ],
   "source": [
    "print(\"Juego terminado\")\n",
    "if len(lista_soluciones) == 0:\n",
    "    print(\"No tiene solucion\")\n",
    "else:\n",
    "    for i in lista_soluciones:\n",
    "        pintar_camino(tablero, i)\n",
    "        print(i)\n",
    "        print(\"Tiempo:\",fin-inicio)\n",
    "\n",
    "        print(\"Tablero:\\n\",tablero)\n"
   ]
  },
  {
   "cell_type": "code",
   "execution_count": null,
   "metadata": {},
   "outputs": [],
   "source": []
  }
 ],
 "metadata": {
  "interpreter": {
   "hash": "e2189b22e4ec1d7e2a352064b41baa27b5b1f9c87390e341ed6206831009eb71"
  },
  "kernelspec": {
   "display_name": "Python 3.7.12 ('Javier_waveinet')",
   "language": "python",
   "name": "python3"
  },
  "language_info": {
   "codemirror_mode": {
    "name": "ipython",
    "version": 3
   },
   "file_extension": ".py",
   "mimetype": "text/x-python",
   "name": "python",
   "nbconvert_exporter": "python",
   "pygments_lexer": "ipython3",
   "version": "3.8.12"
  },
  "orig_nbformat": 4
 },
 "nbformat": 4,
 "nbformat_minor": 2
}
